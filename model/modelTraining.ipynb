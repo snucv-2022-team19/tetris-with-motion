{
 "cells": [
  {
   "cell_type": "code",
   "execution_count": 2,
   "metadata": {},
   "outputs": [],
   "source": [
    "import numpy as np\n",
    "import pandas as pd\n",
    "import tensorflow as tf\n",
    "import csv\n",
    "import copy\n",
    "import argparse\n",
    "import itertools\n",
    "from collections import Counter\n",
    "from collections import deque\n",
    "\n",
    "import cv2 as cv\n",
    "import mediapipe as mp\n",
    "\n",
    "from tensorflow import keras\n"
   ]
  },
  {
   "cell_type": "code",
   "execution_count": 3,
   "metadata": {},
   "outputs": [],
   "source": [
    "data = np.zeros((0,33))\n",
    "cnt = 0\n",
    "for j in range(4):\n",
    "    for i in range(7):\n",
    "        data_path = f'./data/{j}/point_history_{i}.csv'\n",
    "        tmp = pd.read_csv(data_path)\n",
    "        tmp = np.array(tmp)\n",
    "        cnt += tmp.shape[0]\n",
    "        data = np.vstack((data,tmp))\n",
    "data = np.array(data)"
   ]
  },
  {
   "cell_type": "code",
   "execution_count": 4,
   "metadata": {},
   "outputs": [],
   "source": [
    "label = data[::21,0].flatten()\n",
    "data = data[:,1:].reshape(4344,1,21,32)\n",
    "label = keras.utils.to_categorical(label, 7)"
   ]
  },
  {
   "cell_type": "code",
   "execution_count": 5,
   "metadata": {},
   "outputs": [],
   "source": [
    "# 21X32 -> 16X42 변환\n",
    "hdata = np.zeros((4344,1,16,42))\n",
    "for i in range(4344):\n",
    "    for j in range(32):\n",
    "        k = 0\n",
    "        if j%2:\n",
    "            k=1\n",
    "        hdata[i,0,j//2,k::2] = data[i,0,:,j]\n",
    "data = hdata"
   ]
  },
  {
   "cell_type": "code",
   "execution_count": 6,
   "metadata": {},
   "outputs": [],
   "source": [
    "label = label.reshape(4344,1,7).astype(int)"
   ]
  },
  {
   "cell_type": "code",
   "execution_count": 7,
   "metadata": {},
   "outputs": [],
   "source": [
    "train_dataset = tf.data.Dataset.from_tensor_slices((data,label)).shuffle(buffer_size=1000)"
   ]
  },
  {
   "cell_type": "code",
   "execution_count": 8,
   "metadata": {},
   "outputs": [],
   "source": [
    "dataset = train_dataset"
   ]
  },
  {
   "cell_type": "code",
   "execution_count": 9,
   "metadata": {},
   "outputs": [
    {
     "name": "stdout",
     "output_type": "stream",
     "text": [
      "WARNING:tensorflow:From c:\\Anaconda\\lib\\site-packages\\tensorflow\\python\\autograph\\pyct\\static_analysis\\liveness.py:83: Analyzer.lamba_check (from tensorflow.python.autograph.pyct.static_analysis.liveness) is deprecated and will be removed after 2023-09-23.\n",
      "Instructions for updating:\n",
      "Lambda fuctions will be no more assumed to be used in the statement where they are used, or at least in the same block. https://github.com/tensorflow/tensorflow/issues/56089\n"
     ]
    }
   ],
   "source": [
    "def is_test(x, y):\n",
    "    return x % 4 == 0\n",
    "\n",
    "def is_train(x, y):\n",
    "    return not is_test(x, y)\n",
    "\n",
    "recover = lambda x,y: y\n",
    "\n",
    "test_dataset = dataset.enumerate() \\\n",
    "                    .filter(is_test) \\\n",
    "                    .map(recover)\n",
    "\n",
    "train_dataset = dataset.enumerate() \\\n",
    "                    .filter(is_train) \\\n",
    "                    .map(recover)"
   ]
  },
  {
   "cell_type": "code",
   "execution_count": 32,
   "metadata": {},
   "outputs": [
    {
     "name": "stdout",
     "output_type": "stream",
     "text": [
      "<MapDataset element_spec=(TensorSpec(shape=(1, 16, 42), dtype=tf.float64, name=None), TensorSpec(shape=(1, 7), dtype=tf.int32, name=None))>\n"
     ]
    }
   ],
   "source": [
    "print(train_dataset)"
   ]
  },
  {
   "cell_type": "code",
   "execution_count": 45,
   "metadata": {},
   "outputs": [],
   "source": [
    "model= tf.keras.models.Sequential([\n",
    "    tf.keras.layers.LSTM(units = 50, return_sequences=True ,input_shape = (16,42)),\n",
    "    tf.keras.layers.Dropout(0.2),\n",
    "    tf.keras.layers.LSTM(units = 50, return_sequences=True),\n",
    "    tf.keras.layers.Dropout(0.2),\n",
    "    tf.keras.layers.LSTM(units = 50),\n",
    "    tf.keras.layers.Dropout(0.2),\n",
    "    tf.keras.layers.Dense(128, activation='relu'),\n",
    "    tf.keras.layers.Dropout(0.2),\n",
    "    tf.keras.layers.Dense(7, activation='softmax'),   \n",
    "    tf.keras.layers.Flatten()                         \n",
    "])\n",
    "\n",
    "\n",
    "model.compile(optimizer = 'adam',\n",
    "              loss = 'categorical_crossentropy',\n",
    "              metrics = ['accuracy'])"
   ]
  },
  {
   "cell_type": "code",
   "execution_count": 46,
   "metadata": {},
   "outputs": [
    {
     "name": "stdout",
     "output_type": "stream",
     "text": [
      "Epoch 1/32\n",
      "   3253/Unknown - 38s 10ms/step - loss: 1.1650 - accuracy: 0.5893\n",
      "Epoch 1: loss improved from inf to 1.16441, saving model to ./motionmodel\\1_0.5893.h5\n",
      "3258/3258 [==============================] - 38s 10ms/step - loss: 1.1644 - accuracy: 0.5893\n",
      "Epoch 2/32\n",
      "3253/3258 [============================>.] - ETA: 0s - loss: 0.7874 - accuracy: 0.7369\n",
      "Epoch 2: loss improved from 1.16441 to 0.78731, saving model to ./motionmodel\\2_0.7370.h5\n",
      "3258/3258 [==============================] - 33s 10ms/step - loss: 0.7873 - accuracy: 0.7370\n",
      "Epoch 3/32\n",
      "3254/3258 [============================>.] - ETA: 0s - loss: 0.5034 - accuracy: 0.8325\n",
      "Epoch 3: loss improved from 0.78731 to 0.50308, saving model to ./motionmodel\\3_0.8327.h5\n",
      "3258/3258 [==============================] - 38s 12ms/step - loss: 0.5031 - accuracy: 0.8327\n",
      "Epoch 4/32\n",
      "3254/3258 [============================>.] - ETA: 0s - loss: 0.4656 - accuracy: 0.8525\n",
      "Epoch 4: loss improved from 0.50308 to 0.46545, saving model to ./motionmodel\\4_0.8524.h5\n",
      "3258/3258 [==============================] - 35s 11ms/step - loss: 0.4654 - accuracy: 0.8524\n",
      "Epoch 5/32\n",
      "3257/3258 [============================>.] - ETA: 0s - loss: 0.3385 - accuracy: 0.8984\n",
      "Epoch 5: loss improved from 0.46545 to 0.33836, saving model to ./motionmodel\\5_0.8984.h5\n",
      "3258/3258 [==============================] - 32s 10ms/step - loss: 0.3384 - accuracy: 0.8984\n",
      "Epoch 6/32\n",
      "3256/3258 [============================>.] - ETA: 0s - loss: 0.2978 - accuracy: 0.9134\n",
      "Epoch 6: loss improved from 0.33836 to 0.29813, saving model to ./motionmodel\\6_0.9131.h5\n",
      "3258/3258 [==============================] - 29s 9ms/step - loss: 0.2981 - accuracy: 0.9131\n",
      "Epoch 7/32\n",
      "3257/3258 [============================>.] - ETA: 0s - loss: 0.2430 - accuracy: 0.9266\n",
      "Epoch 7: loss improved from 0.29813 to 0.24294, saving model to ./motionmodel\\7_0.9266.h5\n",
      "3258/3258 [==============================] - 34s 10ms/step - loss: 0.2429 - accuracy: 0.9266\n",
      "Epoch 8/32\n",
      "3254/3258 [============================>.] - ETA: 0s - loss: 0.2433 - accuracy: 0.9305\n",
      "Epoch 8: loss did not improve from 0.24294\n",
      "3258/3258 [==============================] - 32s 10ms/step - loss: 0.2430 - accuracy: 0.9306\n",
      "Epoch 9/32\n",
      "3256/3258 [============================>.] - ETA: 0s - loss: 0.2033 - accuracy: 0.9395\n",
      "Epoch 9: loss improved from 0.24294 to 0.20321, saving model to ./motionmodel\\9_0.9395.h5\n",
      "3258/3258 [==============================] - 32s 10ms/step - loss: 0.2032 - accuracy: 0.9395\n",
      "Epoch 10/32\n",
      "3257/3258 [============================>.] - ETA: 0s - loss: 0.2123 - accuracy: 0.9398\n",
      "Epoch 10: loss did not improve from 0.20321\n",
      "3258/3258 [==============================] - 32s 10ms/step - loss: 0.2122 - accuracy: 0.9398\n",
      "Epoch 11/32\n",
      "3253/3258 [============================>.] - ETA: 0s - loss: 0.1878 - accuracy: 0.9468\n",
      "Epoch 11: loss improved from 0.20321 to 0.18755, saving model to ./motionmodel\\11_0.9469.h5\n",
      "3258/3258 [==============================] - 32s 10ms/step - loss: 0.1876 - accuracy: 0.9469\n",
      "Epoch 12/32\n",
      "3258/3258 [==============================] - ETA: 0s - loss: 0.1877 - accuracy: 0.9454\n",
      "Epoch 12: loss did not improve from 0.18755\n",
      "3258/3258 [==============================] - 33s 10ms/step - loss: 0.1877 - accuracy: 0.9454\n",
      "Epoch 13/32\n",
      "3255/3258 [============================>.] - ETA: 0s - loss: 0.1708 - accuracy: 0.9548\n",
      "Epoch 13: loss improved from 0.18755 to 0.17067, saving model to ./motionmodel\\13_0.9549.h5\n",
      "3258/3258 [==============================] - 34s 11ms/step - loss: 0.1707 - accuracy: 0.9549\n",
      "Epoch 14/32\n",
      "3257/3258 [============================>.] - ETA: 0s - loss: 0.1456 - accuracy: 0.9564\n",
      "Epoch 14: loss improved from 0.17067 to 0.14552, saving model to ./motionmodel\\14_0.9564.h5\n",
      "3258/3258 [==============================] - 29s 9ms/step - loss: 0.1455 - accuracy: 0.9564\n",
      "Epoch 15/32\n",
      "3254/3258 [============================>.] - ETA: 0s - loss: 0.1615 - accuracy: 0.9573\n",
      "Epoch 15: loss did not improve from 0.14552\n",
      "3258/3258 [==============================] - 32s 10ms/step - loss: 0.1613 - accuracy: 0.9573\n",
      "Epoch 16/32\n",
      "3258/3258 [==============================] - ETA: 0s - loss: 0.1429 - accuracy: 0.9622\n",
      "Epoch 16: loss improved from 0.14552 to 0.14286, saving model to ./motionmodel\\16_0.9622.h5\n",
      "3258/3258 [==============================] - 31s 10ms/step - loss: 0.1429 - accuracy: 0.9622\n",
      "Epoch 17/32\n",
      "3257/3258 [============================>.] - ETA: 0s - loss: 0.1540 - accuracy: 0.9592\n",
      "Epoch 17: loss did not improve from 0.14286\n",
      "3258/3258 [==============================] - 31s 9ms/step - loss: 0.1539 - accuracy: 0.9592\n",
      "Epoch 18/32\n",
      "3255/3258 [============================>.] - ETA: 0s - loss: 0.1359 - accuracy: 0.9582\n",
      "Epoch 18: loss improved from 0.14286 to 0.13575, saving model to ./motionmodel\\18_0.9583.h5\n",
      "3258/3258 [==============================] - 31s 10ms/step - loss: 0.1357 - accuracy: 0.9583\n",
      "Epoch 19/32\n",
      "3257/3258 [============================>.] - ETA: 0s - loss: 0.1412 - accuracy: 0.9558\n",
      "Epoch 19: loss did not improve from 0.13575\n",
      "3258/3258 [==============================] - 31s 10ms/step - loss: 0.1411 - accuracy: 0.9558\n",
      "Epoch 20/32\n",
      "3256/3258 [============================>.] - ETA: 0s - loss: 0.1463 - accuracy: 0.9622\n",
      "Epoch 20: loss did not improve from 0.13575\n",
      "3258/3258 [==============================] - 31s 9ms/step - loss: 0.1462 - accuracy: 0.9622\n",
      "Epoch 21/32\n",
      "3258/3258 [==============================] - ETA: 0s - loss: 0.1215 - accuracy: 0.9672\n",
      "Epoch 21: loss improved from 0.13575 to 0.12148, saving model to ./motionmodel\\21_0.9672.h5\n",
      "3258/3258 [==============================] - 31s 9ms/step - loss: 0.1215 - accuracy: 0.9672\n",
      "Epoch 22/32\n",
      "3257/3258 [============================>.] - ETA: 0s - loss: 0.1064 - accuracy: 0.9721\n",
      "Epoch 22: loss improved from 0.12148 to 0.10638, saving model to ./motionmodel\\22_0.9721.h5\n",
      "3258/3258 [==============================] - 31s 9ms/step - loss: 0.1064 - accuracy: 0.9721\n",
      "Epoch 23/32\n",
      "3258/3258 [==============================] - ETA: 0s - loss: 0.1042 - accuracy: 0.9708\n",
      "Epoch 23: loss improved from 0.10638 to 0.10416, saving model to ./motionmodel\\23_0.9708.h5\n",
      "3258/3258 [==============================] - 31s 10ms/step - loss: 0.1042 - accuracy: 0.9708\n",
      "Epoch 24/32\n",
      "3257/3258 [============================>.] - ETA: 0s - loss: 0.1190 - accuracy: 0.9675\n",
      "Epoch 24: loss did not improve from 0.10416\n",
      "3258/3258 [==============================] - 33s 10ms/step - loss: 0.1189 - accuracy: 0.9675\n",
      "Epoch 25/32\n",
      "3255/3258 [============================>.] - ETA: 0s - loss: 0.1148 - accuracy: 0.9680\n",
      "Epoch 25: loss did not improve from 0.10416\n",
      "3258/3258 [==============================] - 31s 9ms/step - loss: 0.1146 - accuracy: 0.9681\n",
      "Epoch 26/32\n",
      "3258/3258 [==============================] - ETA: 0s - loss: 0.1404 - accuracy: 0.9632\n",
      "Epoch 26: loss did not improve from 0.10416\n",
      "3258/3258 [==============================] - 31s 9ms/step - loss: 0.1404 - accuracy: 0.9632\n",
      "Epoch 27/32\n",
      "3254/3258 [============================>.] - ETA: 0s - loss: 0.0928 - accuracy: 0.9760\n",
      "Epoch 27: loss improved from 0.10416 to 0.09267, saving model to ./motionmodel\\27_0.9761.h5\n",
      "3258/3258 [==============================] - 31s 9ms/step - loss: 0.0927 - accuracy: 0.9761\n",
      "Epoch 28/32\n",
      "3254/3258 [============================>.] - ETA: 0s - loss: 0.1383 - accuracy: 0.9674\n",
      "Epoch 28: loss did not improve from 0.09267\n",
      "3258/3258 [==============================] - 31s 9ms/step - loss: 0.1381 - accuracy: 0.9675\n",
      "Epoch 29/32\n",
      "3258/3258 [==============================] - ETA: 0s - loss: 0.0873 - accuracy: 0.9758\n",
      "Epoch 29: loss improved from 0.09267 to 0.08728, saving model to ./motionmodel\\29_0.9758.h5\n",
      "3258/3258 [==============================] - 31s 10ms/step - loss: 0.0873 - accuracy: 0.9758\n",
      "Epoch 30/32\n",
      "3253/3258 [============================>.] - ETA: 0s - loss: 0.1110 - accuracy: 0.9733\n",
      "Epoch 30: loss did not improve from 0.08728\n",
      "3258/3258 [==============================] - 31s 9ms/step - loss: 0.1108 - accuracy: 0.9733\n",
      "Epoch 31/32\n",
      "3257/3258 [============================>.] - ETA: 0s - loss: 0.0810 - accuracy: 0.9761\n",
      "Epoch 31: loss improved from 0.08728 to 0.08097, saving model to ./motionmodel\\31_0.9761.h5\n",
      "3258/3258 [==============================] - 31s 9ms/step - loss: 0.0810 - accuracy: 0.9761\n",
      "Epoch 32/32\n",
      "3256/3258 [============================>.] - ETA: 0s - loss: 0.1071 - accuracy: 0.9736\n",
      "Epoch 32: loss did not improve from 0.08097\n",
      "3258/3258 [==============================] - 31s 9ms/step - loss: 0.1071 - accuracy: 0.9736\n"
     ]
    },
    {
     "data": {
      "text/plain": [
       "<keras.callbacks.History at 0x156132cc190>"
      ]
     },
     "execution_count": 46,
     "metadata": {},
     "output_type": "execute_result"
    }
   ],
   "source": [
    "es = tf.keras.callbacks.EarlyStopping(monitor='loss',patience=10)\n",
    "check_point = tf.keras.callbacks.ModelCheckpoint(filepath='./motionmodel/{epoch}_{accuracy:.4f}.h5', monitor='loss', save_best_only=True, verbose=1)\n",
    "model.fit(train_dataset, epochs = 32, callbacks=[es, check_point])"
   ]
  },
  {
   "cell_type": "code",
   "execution_count": 47,
   "metadata": {},
   "outputs": [],
   "source": [
    "model = tf.keras.models.load_model('./motionmodel/31_0.9761.h5')"
   ]
  },
  {
   "cell_type": "code",
   "execution_count": 48,
   "metadata": {},
   "outputs": [
    {
     "name": "stdout",
     "output_type": "stream",
     "text": [
      "1086/1086 [==============================] - 4s 3ms/step - loss: 0.1459 - accuracy: 0.9595\n"
     ]
    },
    {
     "data": {
      "text/plain": [
       "[0.14585533738136292, 0.959484338760376]"
      ]
     },
     "execution_count": 48,
     "metadata": {},
     "output_type": "execute_result"
    }
   ],
   "source": [
    "model.evaluate(test_dataset)"
   ]
  },
  {
   "cell_type": "code",
   "execution_count": 49,
   "metadata": {},
   "outputs": [],
   "source": [
    "model.save('./motionmodel_total.h5')"
   ]
  }
 ],
 "metadata": {
  "kernelspec": {
   "display_name": "Python 3.10.8 ('.venv': venv)",
   "language": "python",
   "name": "python3"
  },
  "language_info": {
   "codemirror_mode": {
    "name": "ipython",
    "version": 3
   },
   "file_extension": ".py",
   "mimetype": "text/x-python",
   "name": "python",
   "nbconvert_exporter": "python",
   "pygments_lexer": "ipython3",
   "version": "3.10.8"
  },
  "orig_nbformat": 4,
  "vscode": {
   "interpreter": {
    "hash": "7c464b4e758a8ad1ff7e5e489dbcfc6af46f19fb9bee054a94f68a8ade70daa3"
   }
  }
 },
 "nbformat": 4,
 "nbformat_minor": 2
}
